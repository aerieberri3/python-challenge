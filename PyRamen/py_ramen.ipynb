{
 "cells": [
  {
   "cell_type": "code",
   "execution_count": null,
   "id": "2b9e1a28-971a-4bfb-b832-d2f18119b5c5",
   "metadata": {},
   "outputs": [],
   "source": [
    "#Py Ramen\n",
    "--\n",
    "#This homework assignment asks that I analyze a fictional restaurant's financial performance \n",
    "# I will cross-reference the sales data with the internal menu data \n",
    "#to determine revenues and costs for the year\n",
    "\n",
    "#The analysis will present a per-product review.\n",
    "#It will provide and understanding of which menu items\n",
    "#bring the most value to the restaurant\n",
    "#and create a structure to help decide what products\n",
    "#can be taken off menu or altered"
   ]
  },
  {
   "cell_type": "code",
   "execution_count": 31,
   "id": "09daf9de-1f71-4fd5-91a4-8c33af23fc29",
   "metadata": {},
   "outputs": [],
   "source": [
    "#Imports\n",
    "from pathlib import Path\n",
    "import csv"
   ]
  },
  {
   "cell_type": "code",
   "execution_count": 32,
   "id": "b0798c54-0037-4c34-af01-4706ddb33583",
   "metadata": {},
   "outputs": [
    {
     "ename": "SyntaxError",
     "evalue": "invalid syntax (3059151031.py, line 2)",
     "output_type": "error",
     "traceback": [
      "\u001b[1;36m  File \u001b[1;32m\"C:\\Users\\16238\\AppData\\Local\\Temp\\ipykernel_12200\\3059151031.py\"\u001b[1;36m, line \u001b[1;32m2\u001b[0m\n\u001b[1;33m    --\u001b[0m\n\u001b[1;37m      ^\u001b[0m\n\u001b[1;31mSyntaxError\u001b[0m\u001b[1;31m:\u001b[0m invalid syntax\n"
     ]
    }
   ],
   "source": [
    "#The Menu\n",
    "--\n",
    "menu = []"
   ]
  },
  {
   "cell_type": "code",
   "execution_count": 33,
   "id": "429d9239-ece2-46ee-9382-c66c8239b438",
   "metadata": {},
   "outputs": [],
   "source": [
    "#Read Data\n",
    "csvpath = Path('..Resources/menu_data.csv')"
   ]
  },
  {
   "cell_type": "code",
   "execution_count": 34,
   "id": "7dae5d1d-21be-436b-ab01-9975fa32b519",
   "metadata": {},
   "outputs": [
    {
     "ename": "FileNotFoundError",
     "evalue": "[Errno 2] No such file or directory: '..Resources\\\\menu_data.csv'",
     "output_type": "error",
     "traceback": [
      "\u001b[1;31m---------------------------------------------------------------------------\u001b[0m",
      "\u001b[1;31mFileNotFoundError\u001b[0m                         Traceback (most recent call last)",
      "\u001b[1;32m~\\AppData\\Local\\Temp\\ipykernel_12200\\2461212187.py\u001b[0m in \u001b[0;36m<module>\u001b[1;34m\u001b[0m\n\u001b[0;32m      1\u001b[0m \u001b[1;31m#Read in the menu data into the menu list\u001b[0m\u001b[1;33m\u001b[0m\u001b[1;33m\u001b[0m\u001b[0m\n\u001b[0;32m      2\u001b[0m \u001b[1;31m#Create a nested loop by looping through every record in menu.\u001b[0m\u001b[1;33m\u001b[0m\u001b[1;33m\u001b[0m\u001b[0m\n\u001b[1;32m----> 3\u001b[1;33m \u001b[1;32mwith\u001b[0m \u001b[0mopen\u001b[0m\u001b[1;33m(\u001b[0m\u001b[0mcsvpath\u001b[0m\u001b[1;33m,\u001b[0m \u001b[1;34m'r'\u001b[0m\u001b[1;33m)\u001b[0m \u001b[1;32mas\u001b[0m \u001b[0mcsvfile\u001b[0m\u001b[1;33m:\u001b[0m\u001b[1;33m\u001b[0m\u001b[1;33m\u001b[0m\u001b[0m\n\u001b[0m\u001b[0;32m      4\u001b[0m     \u001b[0mprint\u001b[0m\u001b[1;33m(\u001b[0m\u001b[0mtype\u001b[0m\u001b[1;33m(\u001b[0m\u001b[0mcsvfile\u001b[0m\u001b[1;33m)\u001b[0m\u001b[1;33m)\u001b[0m\u001b[1;33m\u001b[0m\u001b[1;33m\u001b[0m\u001b[0m\n\u001b[0;32m      5\u001b[0m \u001b[1;33m\u001b[0m\u001b[0m\n",
      "\u001b[1;31mFileNotFoundError\u001b[0m: [Errno 2] No such file or directory: '..Resources\\\\menu_data.csv'"
     ]
    }
   ],
   "source": [
    "#Read in the menu data into the menu list\n",
    "#Create a nested loop by looping through every record in menu.\n",
    "with open(csvpath, 'r') as csvfile:\n",
    "    print(type(csvfile))\n",
    "\n",
    "    "
   ]
  },
  {
   "cell_type": "code",
   "execution_count": null,
   "id": "3855bef6-5086-422f-9840-d3f7e971ed55",
   "metadata": {},
   "outputs": [],
   "source": [
    "#Initialize list objects - We are going to use a list\n",
    "\n",
    "menu = []\n"
   ]
  },
  {
   "cell_type": "code",
   "execution_count": null,
   "id": "2236990e-bf39-4dfc-a77d-6f91bf8c80c8",
   "metadata": {},
   "outputs": [],
   "source": [
    "import csv\n",
    "\n",
    "# Define the path to the input file\n",
    "input_file = \"menu_data.csv\"\n",
    "\n",
    "# Define a list to hold the menu data\n",
    "menu = []\n",
    "\n",
    "# Open the input file and read in the data\n",
    "with open(input_file, \"r\") as f:\n",
    "    # Create a CSV reader object\n",
    "    reader = csv.DictReader(f)\n",
    "    \n",
    "    # Loop over each row in the CSV file\n",
    "    for row in reader:\n",
    "        # Convert the price and cost columns to floats\n",
    "        row[\"price\"] = float(row[\"price\"])\n",
    "        row[\"cost\"] = float(row[\"cost\"])\n",
    "        \n",
    "        # Add the row to the menu list\n",
    "        menu.append(row)\n"
   ]
  },
  {
   "cell_type": "code",
   "execution_count": null,
   "id": "72536033-e2f3-4261-a071-78fcadf4d8cf",
   "metadata": {},
   "outputs": [],
   "source": []
  }
 ],
 "metadata": {
  "kernelspec": {
   "display_name": "Python 3 (ipykernel)",
   "language": "python",
   "name": "python3"
  },
  "language_info": {
   "codemirror_mode": {
    "name": "ipython",
    "version": 3
   },
   "file_extension": ".py",
   "mimetype": "text/x-python",
   "name": "python",
   "nbconvert_exporter": "python",
   "pygments_lexer": "ipython3",
   "version": "3.9.13"
  }
 },
 "nbformat": 4,
 "nbformat_minor": 5
}

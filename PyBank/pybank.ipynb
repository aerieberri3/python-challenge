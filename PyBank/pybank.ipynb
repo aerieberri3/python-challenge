{
 "cells": [
  {
   "cell_type": "code",
   "execution_count": null,
   "id": "138cb2b1-6069-4472-86f6-d456f51367ed",
   "metadata": {},
   "outputs": [],
   "source": [
    "#How Do I Do This?????"
   ]
  },
  {
   "cell_type": "code",
   "execution_count": null,
   "id": "d00768d5-96e4-40c3-a5df-e5b8d935e532",
   "metadata": {},
   "outputs": [],
   "source": [
    "In this activity, you are tasked with creating a Python script for analyzing the financial records of your company. You will be provided with a financial dataset in this file: [budget_data.csv](PyBank/Resources/budget_data.csv). This dataset is composed of two columns, Date and Profit/Losses. (Thankfully, your company has rather lax standards for accounting, so the records are simple.)\n",
    "\n",
    "Your task is to create a Python script that analyzes the records to calculate each of the following:\n",
    "\n",
    "* The total number of months included in the dataset.\n",
    "\n",
    "* The net total amount of Profit/Losses over the entire period.\n",
    "\n",
    "* The average of the changes in Profit/Losses over the entire period.\n",
    "\n",
    "* The greatest increase in profits (date and amount) over the entire period.\n",
    "\n",
    "* The greatest decrease in losses (date and amount) over the entire period."
   ]
  },
  {
   "cell_type": "code",
   "execution_count": 39,
   "id": "060f1e3a-bacb-43a6-b45a-d8e1407ea25f",
   "metadata": {},
   "outputs": [],
   "source": [
    "#imports\n",
    "from pathlib import Path\n",
    "import csv"
   ]
  },
  {
   "cell_type": "code",
   "execution_count": 40,
   "id": "9dced6eb-94b2-4ab9-9e81-2b81bc2b03e1",
   "metadata": {},
   "outputs": [],
   "source": [
    "#create a path to my file\n",
    "path = Path('../budget_data.csv')"
   ]
  },
  {
   "cell_type": "code",
   "execution_count": 41,
   "id": "9dbde577-cfcb-430d-ba38-25ab9b35bb45",
   "metadata": {},
   "outputs": [],
   "source": [
    "#I created variables and empty lists\n",
    "pl = []\n",
    "month = []\n",
    "delta = []"
   ]
  },
  {
   "cell_type": "code",
   "execution_count": 43,
   "id": "a83c6396-ff1d-4070-b813-1a34bc830d94",
   "metadata": {},
   "outputs": [],
   "source": [
    "with open(path, 'r') as csvfile:\n",
    "    csvreader = csv.reader(csvfile, delimiter=',')\n",
    "    csv_header = next(csvreader)\n",
    "    for column in csvreader:\n",
    "        month.append(str(column[0]))\n",
    "        pl.append(int(column[1]))\n",
    "        "
   ]
  },
  {
   "cell_type": "code",
   "execution_count": 44,
   "id": "f0c87aea-caa9-41c3-8985-83048fef9b26",
   "metadata": {},
   "outputs": [],
   "source": [
    "#adds the values in the column pl\n",
    "total_pl = sum(pl)\n",
    "#counts the number of values in the column mounth\n",
    "month_count = len(month)"
   ]
  },
  {
   "cell_type": "code",
   "execution_count": 45,
   "id": "3aa7d718-e7c4-42b8-b469-57144f18bf93",
   "metadata": {},
   "outputs": [],
   "source": [
    "# For each item in range - the range is our columns\n",
    "for i in range(month_count-1):\n",
    "    delta.append(pl[i+1]-pl[i])"
   ]
  },
  {
   "cell_type": "code",
   "execution_count": 70,
   "id": "5b67d02d-a259-4dd9-b576-f46b1e1de832",
   "metadata": {},
   "outputs": [],
   "source": [
    "avg_change = round(sum(delta)/len(delta),2)"
   ]
  },
  {
   "cell_type": "code",
   "execution_count": 71,
   "id": "6c04a1be-8c0b-48b2-9c74-02d84f670502",
   "metadata": {},
   "outputs": [],
   "source": [
    "largest_increase = max(delta)\n",
    "largest_decrease = min(delta)"
   ]
  },
  {
   "cell_type": "code",
   "execution_count": 72,
   "id": "cee40c08-158e-46b6-b91e-d7da2917bbdd",
   "metadata": {},
   "outputs": [],
   "source": [
    "large_increase_index = delta.index(max(delta))\n",
    "large_decrease_index = delta.index(min(delta))"
   ]
  },
  {
   "cell_type": "code",
   "execution_count": 73,
   "id": "a3178e94-3fca-4d0d-b91d-d929b0ba0c7f",
   "metadata": {},
   "outputs": [],
   "source": [
    "best_month = month[large_increase_index+1]\n",
    "worst_month = month[large_decrease_index+1]"
   ]
  },
  {
   "cell_type": "code",
   "execution_count": null,
   "id": "86b38765-c3a4-48a8-adc8-84dff62ed2d8",
   "metadata": {},
   "outputs": [],
   "source": []
  },
  {
   "cell_type": "code",
   "execution_count": 74,
   "id": "2df2028d-403f-4312-829d-d3c77b15966f",
   "metadata": {},
   "outputs": [
    {
     "name": "stdout",
     "output_type": "stream",
     "text": [
      "Financial Analysis\n",
      "----------------------------\n",
      "Total Months: 86\n",
      "Total: 38382578\n",
      "Average Change: -2315.12\n",
      "Greatest Increase in Profits: Feb-2012 $(1926159)\n",
      "Greatest Decrease in Profits: Sep-2013 $(-2196167)\n"
     ]
    }
   ],
   "source": [
    "print(\"Financial Analysis\")\n",
    "print(\"----------------------------\")\n",
    "print(f\"Total Months: {month_count}\")\n",
    "print(f\"Total: {total_pl}\")\n",
    "print(f\"Average Change: {avg_change}\")\n",
    "print(f\"Greatest Increase in Profits: {best_month} $({largest_increase})\")\n",
    "print(f\"Greatest Decrease in Profits: {worst_month} $({largest_decrease})\")"
   ]
  },
  {
   "cell_type": "code",
   "execution_count": null,
   "id": "64d657fa-f0c4-41f0-9800-43b88a07992f",
   "metadata": {},
   "outputs": [],
   "source": []
  },
  {
   "cell_type": "code",
   "execution_count": null,
   "id": "d8cbc994-0b64-4c96-97a4-3abc1e4620bf",
   "metadata": {},
   "outputs": [],
   "source": []
  },
  {
   "cell_type": "code",
   "execution_count": null,
   "id": "ec1198ce-4b1d-4b06-948b-364848a72e2c",
   "metadata": {},
   "outputs": [],
   "source": []
  },
  {
   "cell_type": "code",
   "execution_count": null,
   "id": "a99b6b67-9f5f-4475-8600-e834c4fef1b0",
   "metadata": {},
   "outputs": [],
   "source": []
  },
  {
   "cell_type": "code",
   "execution_count": null,
   "id": "a7d6772e-6e65-4b23-ac6c-a779404b0264",
   "metadata": {},
   "outputs": [],
   "source": []
  }
 ],
 "metadata": {
  "kernelspec": {
   "display_name": "Python 3 (ipykernel)",
   "language": "python",
   "name": "python3"
  },
  "language_info": {
   "codemirror_mode": {
    "name": "ipython",
    "version": 3
   },
   "file_extension": ".py",
   "mimetype": "text/x-python",
   "name": "python",
   "nbconvert_exporter": "python",
   "pygments_lexer": "ipython3",
   "version": "3.7.13"
  }
 },
 "nbformat": 4,
 "nbformat_minor": 5
}

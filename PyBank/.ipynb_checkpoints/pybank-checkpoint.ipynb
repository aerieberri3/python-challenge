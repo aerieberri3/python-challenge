{
 "cells": [
  {
   "cell_type": "code",
   "execution_count": null,
   "id": "138cb2b1-6069-4472-86f6-d456f51367ed",
   "metadata": {},
   "outputs": [],
   "source": [
    "#How Do I Do This?????"
   ]
  },
  {
   "cell_type": "code",
   "execution_count": null,
   "id": "d00768d5-96e4-40c3-a5df-e5b8d935e532",
   "metadata": {},
   "outputs": [],
   "source": [
    "In this activity, you are tasked with creating a Python script for analyzing the financial records of your company. You will be provided with a financial dataset in this file: [budget_data.csv](PyBank/Resources/budget_data.csv). This dataset is composed of two columns, Date and Profit/Losses. (Thankfully, your company has rather lax standards for accounting, so the records are simple.)\n",
    "\n",
    "Your task is to create a Python script that analyzes the records to calculate each of the following:\n",
    "\n",
    "* The total number of months included in the dataset.\n",
    "\n",
    "* The net total amount of Profit/Losses over the entire period.\n",
    "\n",
    "* The average of the changes in Profit/Losses over the entire period.\n",
    "\n",
    "* The greatest increase in profits (date and amount) over the entire period.\n",
    "\n",
    "* The greatest decrease in losses (date and amount) over the entire period."
   ]
  },
  {
   "cell_type": "code",
   "execution_count": 39,
   "id": "060f1e3a-bacb-43a6-b45a-d8e1407ea25f",
   "metadata": {},
   "outputs": [],
   "source": [
    "#imports\n",
    "from pathlib import Path\n",
    "import csv"
   ]
  },
  {
   "cell_type": "code",
   "execution_count": 40,
   "id": "9dced6eb-94b2-4ab9-9e81-2b81bc2b03e1",
   "metadata": {},
   "outputs": [],
   "source": [
    "#create a path to my file\n",
    "path = Path('../budget_data.csv')"
   ]
  },
  {
   "cell_type": "code",
   "execution_count": 41,
   "id": "9dbde577-cfcb-430d-ba38-25ab9b35bb45",
   "metadata": {},
   "outputs": [],
   "source": [
    "#I created variables but did I?\n",
    "pl = []\n",
    "month = []\n",
    "delta = []"
   ]
  },
  {
   "cell_type": "code",
   "execution_count": 43,
   "id": "a83c6396-ff1d-4070-b813-1a34bc830d94",
   "metadata": {},
   "outputs": [],
   "source": [
    "with open(path, 'r') as csvfile:\n",
    "    csvreader = csv.reader(csvfile, delimiter=',')\n",
    "    csv_header = next(csvreader)\n",
    "    for column in csvreader:\n",
    "        month.append(str(column[0]))\n",
    "        pl.append(int(column[1]))\n",
    "        "
   ]
  },
  {
   "cell_type": "code",
   "execution_count": 44,
   "id": "f0c87aea-caa9-41c3-8985-83048fef9b26",
   "metadata": {},
   "outputs": [],
   "source": [
    "#adds the values in the column pl\n",
    "total_pl = sum(pl)\n",
    "#counts the number of values in the column mounth\n",
    "month_count = len(month)"
   ]
  },
  {
   "cell_type": "code",
   "execution_count": 45,
   "id": "3aa7d718-e7c4-42b8-b469-57144f18bf93",
   "metadata": {},
   "outputs": [],
   "source": [
    "# For each item in range - the range is our columns\n",
    "for i in range(month_count-1):\n",
    "    delta.append(pl[i+1]-pl[i])"
   ]
  },
  {
   "cell_type": "code",
   "execution_count": 70,
   "id": "5b67d02d-a259-4dd9-b576-f46b1e1de832",
   "metadata": {},
   "outputs": [],
   "source": [
    "avg_change = round(sum(delta)/len(delta),2)"
   ]
  },
  {
   "cell_type": "code",
   "execution_count": 71,
   "id": "6c04a1be-8c0b-48b2-9c74-02d84f670502",
   "metadata": {},
   "outputs": [],
   "source": [
    "largest_increase = max(delta)\n",
    "largest_decrease = min(delta)"
   ]
  },
  {
   "cell_type": "code",
   "execution_count": 72,
   "id": "cee40c08-158e-46b6-b91e-d7da2917bbdd",
   "metadata": {},
   "outputs": [],
   "source": [
    "large_increase_index = delta.index(max(delta))\n",
    "large_decrease_index = delta.index(min(delta))"
   ]
  },
  {
   "cell_type": "code",
   "execution_count": 73,
   "id": "a3178e94-3fca-4d0d-b91d-d929b0ba0c7f",
   "metadata": {},
   "outputs": [],
   "source": [
    "best_month = month[large_increase_index+1]\n",
    "worst_month = month[large_decrease_index+1]"
   ]
  },
  {
   "cell_type": "code",
   "execution_count": null,
   "id": "86b38765-c3a4-48a8-adc8-84dff62ed2d8",
   "metadata": {},
   "outputs": [],
   "source": []
  },
  {
   "cell_type": "code",
   "execution_count": 74,
   "id": "2df2028d-403f-4312-829d-d3c77b15966f",
   "metadata": {},
   "outputs": [
    {
     "name": "stdout",
     "output_type": "stream",
     "text": [
      "Financial Analysis\n",
      "----------------------------\n",
      "Total Months: 86\n",
      "Total: 38382578\n",
      "Average Change: -2315.12\n",
      "Greatest Increase in Profits: Feb-2012 $(1926159)\n",
      "Greatest Decrease in Profits: Sep-2013 $(-2196167)\n"
     ]
    }
   ],
   "source": [
    "print(\"Financial Analysis\")\n",
    "print(\"----------------------------\")\n",
    "print(f\"Total Months: {month_count}\")\n",
    "print(f\"Total: {total_pl}\")\n",
    "print(f\"Average Change: {avg_change}\")\n",
    "print(f\"Greatest Increase in Profits: {best_month} $({largest_increase})\")\n",
    "print(f\"Greatest Decrease in Profits: {worst_month} $({largest_decrease})\")"
   ]
  },
  {
   "cell_type": "code",
   "execution_count": 51,
   "id": "8872fea2-7ef1-47ae-8e0e-686460cdc0da",
   "metadata": {},
   "outputs": [
    {
     "name": "stdout",
     "output_type": "stream",
     "text": [
      "Date,Profit/Losses\n",
      "Jan-2010,867884\n",
      "Feb-2010,984655\n",
      "Mar-2010,322013\n",
      "Apr-2010,-69417\n",
      "May-2010,310503\n",
      "Jun-2010,522857\n",
      "Jul-2010,1033096\n",
      "Aug-2010,604885\n",
      "Sep-2010,-216386\n",
      "Oct-2010,477532\n",
      "Nov-2010,893810\n",
      "Dec-2010,-80353\n",
      "Jan-2011,779806\n",
      "Feb-2011,-335203\n",
      "Mar-2011,697845\n",
      "Apr-2011,793163\n",
      "May-2011,485070\n",
      "Jun-2011,584122\n",
      "Jul-2011,62729\n",
      "Aug-2011,668179\n",
      "Sep-2011,899906\n",
      "Oct-2011,834719\n",
      "Nov-2011,132003\n",
      "Dec-2011,309978\n",
      "Jan-2012,-755566\n",
      "Feb-2012,1170593\n",
      "Mar-2012,252788\n",
      "Apr-2012,1151518\n",
      "May-2012,817256\n",
      "Jun-2012,570757\n",
      "Jul-2012,506702\n",
      "Aug-2012,-1022534\n",
      "Sep-2012,475062\n",
      "Oct-2012,779976\n",
      "Nov-2012,144175\n",
      "Dec-2012,542494\n",
      "Jan-2013,359333\n",
      "Feb-2013,321469\n",
      "Mar-2013,67780\n",
      "Apr-2013,471435\n",
      "May-2013,565603\n",
      "Jun-2013,872480\n",
      "Jul-2013,789480\n",
      "Aug-2013,999942\n",
      "Sep-2013,-1196225\n",
      "Oct-2013,268997\n",
      "Nov-2013,-687986\n",
      "Dec-2013,1150461\n",
      "Jan-2014,682458\n",
      "Feb-2014,617856\n",
      "Mar-2014,824098\n",
      "Apr-2014,581943\n",
      "May-2014,132864\n",
      "Jun-2014,448062\n",
      "Jul-2014,689161\n",
      "Aug-2014,800701\n",
      "Sep-2014,1166643\n",
      "Oct-2014,947333\n",
      "Nov-2014,578668\n",
      "Dec-2014,988505\n",
      "Jan-2015,1139715\n",
      "Feb-2015,1029471\n",
      "Mar-2015,687533\n",
      "Apr-2015,-524626\n",
      "May-2015,158620\n",
      "Jun-2015,87795\n",
      "Jul-2015,423389\n",
      "Aug-2015,840723\n",
      "Sep-2015,568529\n",
      "Oct-2015,332067\n",
      "Nov-2015,989499\n",
      "Dec-2015,778237\n",
      "Jan-2016,650000\n",
      "Feb-2016,-1100387\n",
      "Mar-2016,-174946\n",
      "Apr-2016,757143\n",
      "May-2016,445709\n",
      "Jun-2016,712961\n",
      "Jul-2016,-1163797\n",
      "Aug-2016,569899\n",
      "Sep-2016,768450\n",
      "Oct-2016,102685\n",
      "Nov-2016,795914\n",
      "Dec-2016,60988\n",
      "Jan-2017,138230\n",
      "Feb-2017,671099\n",
      "\n"
     ]
    }
   ],
   "source": [
    "# I create the path for the csv file and read what is in the file\n",
    "path = '../budget_data.csv'\n",
    "with open(path, 'r') as file:\n",
    "    print(file.read())"
   ]
  },
  {
   "cell_type": "code",
   "execution_count": 52,
   "id": "1082f3d5-2e61-47de-9c63-fe1bc7922474",
   "metadata": {},
   "outputs": [],
   "source": [
    "import csv\n",
    "from pathlib import Path"
   ]
  },
  {
   "cell_type": "code",
   "execution_count": 53,
   "id": "3e7624e8-3ed2-41b5-82c3-ffbad869c2ca",
   "metadata": {},
   "outputs": [],
   "source": [
    "file_to_load = Path('../budget_data.csv')\n",
    "file_to_output = Path('../budget_data.txt')"
   ]
  },
  {
   "cell_type": "code",
   "execution_count": 54,
   "id": "fabe05f9-4d59-42f5-8ab1-bd675aadf949",
   "metadata": {},
   "outputs": [],
   "source": [
    "total_month = 0\n",
    "month_change = []\n",
    "net_change = []\n",
    "greatest_increase = ['', 0]\n",
    "greatest_decrease = ['', 999999999]\n",
    "total_net = 0"
   ]
  },
  {
   "cell_type": "code",
   "execution_count": 55,
   "id": "36fa4fe4-f278-417d-9272-01f4712e2e9c",
   "metadata": {},
   "outputs": [],
   "source": [
    "with open (file_to_load) as financial_data:\n",
    "    reader = csv.reader(financial_data)\n",
    "    header = next(reader)\n",
    "    \n",
    "    first_row = next(reader)\n",
    "    total_month = total_month + 1\n",
    "    total_net = total_net + int(first_row[1])\n",
    "    prev_net = int(first_row[1])\n",
    "    \n",
    "    for row in reader:\n",
    "        total_month = total_month + 1\n",
    "        total_net = total_net + int(first_row[1])\n",
    "        change_net = int(first_row[1]) - prev_net\n",
    "        prev_net = int(row[1])\n",
    "        net_change_list = net_change + [change_net]\n",
    "        month_change = month_change + [row[0]]\n",
    "        if change_net > greatest_increase[1]:\n",
    "            greatest_increase[0] = row[0]\n",
    "            greatest_increase[1] = change_net\n",
    "        if change_net < greatest_decrease[1]:\n",
    "            greatest_decrease[0] = row[0]\n",
    "            greatest_decrease[1] = change_net\n"
   ]
  },
  {
   "cell_type": "code",
   "execution_count": 56,
   "id": "0a990a15-3be9-46ae-bd2d-f4df29ab1da9",
   "metadata": {},
   "outputs": [
    {
     "data": {
      "text/plain": [
       "729654.0"
      ]
     },
     "execution_count": 56,
     "metadata": {},
     "output_type": "execute_result"
    }
   ],
   "source": [
    "net_monthly_average = round(sum(net_change_list)/len(net_change_list), 2)\n",
    "net_monthly_average"
   ]
  },
  {
   "cell_type": "code",
   "execution_count": 57,
   "id": "d60700dc-71a8-405d-bb9e-6f4e8edf3d8f",
   "metadata": {},
   "outputs": [],
   "source": [
    "with open(file_to_output, \"w\") as txt_file:\n",
    "    txt_file.write(f\"Financial Analysis\\n\")\n",
    "    txt_file.write(f\"----------------------------\\n\")\n",
    "    txt_file.write(f\"Total Months: {total_month}\\n\")\n",
    "    txt_file.write(f\"Total: ${total_net}\\n\")\n",
    "    txt_file.write(f\"Average  Change: ${net_monthly_average}\\n\")\n",
    "    txt_file.write(f\"Greatest Increase in Profits: {greatest_increase[0]} (${greatest_increase[1]})\\n\")\n",
    "    txt_file.write(f\"Greatest Decrease in Profits: {greatest_decrease[0]} (${greatest_decrease[1]})\\n\")"
   ]
  },
  {
   "cell_type": "code",
   "execution_count": null,
   "id": "64d657fa-f0c4-41f0-9800-43b88a07992f",
   "metadata": {},
   "outputs": [],
   "source": []
  },
  {
   "cell_type": "code",
   "execution_count": null,
   "id": "d8cbc994-0b64-4c96-97a4-3abc1e4620bf",
   "metadata": {},
   "outputs": [],
   "source": []
  }
 ],
 "metadata": {
  "kernelspec": {
   "display_name": "Python 3 (ipykernel)",
   "language": "python",
   "name": "python3"
  },
  "language_info": {
   "codemirror_mode": {
    "name": "ipython",
    "version": 3
   },
   "file_extension": ".py",
   "mimetype": "text/x-python",
   "name": "python",
   "nbconvert_exporter": "python",
   "pygments_lexer": "ipython3",
   "version": "3.9.13"
  }
 },
 "nbformat": 4,
 "nbformat_minor": 5
}
